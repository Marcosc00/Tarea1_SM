{
 "cells": [
  {
   "cell_type": "markdown",
   "metadata": {},
   "source": [
    "# **Presentación personal:**\n"
   ]
  },
  {
   "cell_type": "markdown",
   "metadata": {},
   "source": [
    "###   ¿Quién soy yo?\n",
    "**********************************"
   ]
  },
  {
   "cell_type": "markdown",
   "metadata": {},
   "source": [
    "Mi nombre es _Marco Antonio Sánchez Covarrubias_, tengo 18 años de edad, estudio Ingeniería Financiera y tengo 1 hermano mayor de 23 años"
   ]
  },
  {
   "cell_type": "markdown",
   "metadata": {},
   "source": [
    "> Nací en Guamúchil, Sinaloa el 08 de Septiembre del año 2000"
   ]
  },
  {
   "cell_type": "markdown",
   "metadata": {},
   "source": [
    "###   Pasatiempos:\n",
    "**********************************"
   ]
  },
  {
   "cell_type": "markdown",
   "metadata": {},
   "source": [
    "* Ver series en Netflix\n",
    "* Salir con mis amigos\n",
    "* Jugar futból\n",
    "* Tocar la guitarra\n",
    "* Leer"
   ]
  },
  {
   "cell_type": "markdown",
   "metadata": {},
   "source": [
    "`Mi género favorito: acción ` "
   ]
  },
  {
   "cell_type": "markdown",
   "metadata": {},
   "source": [
    "###  ¿Por qué estudié esta carrera?:\n",
    "**********************************"
   ]
  },
  {
   "cell_type": "markdown",
   "metadata": {},
   "source": [
    "Desde niño siempre tuve un cierto interés especial al área financiera, el tema de lo bursátil y poder medir riesgos me parece muy interesante, creo que mediante el amplio campo de interés que radica en esta carrera, tengo un buen campo de oportunidad laboral con amplia variedad."
   ]
  },
  {
   "cell_type": "markdown",
   "metadata": {},
   "source": [
    "###  Metas y datos sobre mí:\n",
    "**********************************"
   ]
  },
  {
   "cell_type": "markdown",
   "metadata": {},
   "source": [
    "1. Me considero una persona muy perfeccionista y ordenada\n",
    "2. La familia es lo mas importante en mi vida\n",
    "3. Me gustaría hacer una maestría en matemáticas administrativas o centrarme en actuaría\n",
    "4. Quiero aprender un nuevo idioma como el mandarín o japonés\n",
    "5. Viajar y conocer el mundo\n"
   ]
  },
  {
   "cell_type": "markdown",
   "metadata": {},
   "source": [
    "# **Resumen 1**"
   ]
  },
  {
   "cell_type": "markdown",
   "metadata": {},
   "source": [
    "**Spotlight: Why Python Training Is Totally Worth It**\n",
    "\n",
    "Python’s been a coding mainstay for nearly three decades now. It’s solid. Respectable. It’s capabilities range from general purpose to higher level programming functions, and it has a wide variety of applications. Python also makes use of streamlined syntax, which greatly helps to simplify maintenance and updates and allows you to express various programming concepts without the need for additional coding. Combine that with its fairly robust library and its general compatibility with most any major systems and you have a programming language that’s accessible for even the coding novice.\n",
    "It can be useful for implementing algorithms that can detect patterns, which is key in facial recognition software, voice recognition and recommendation systems like those Amazon and YouTube rely on. It’s an unbelievably hot area.\n",
    "\n",
    "http://anewdomain.net/spotlight-should-you-invest-in-python-training/ \n"
   ]
  },
  {
   "cell_type": "code",
   "execution_count": null,
   "metadata": {},
   "outputs": [],
   "source": []
  }
 ],
 "metadata": {
  "kernelspec": {
   "display_name": "Python 3",
   "language": "python",
   "name": "python3"
  },
  "language_info": {
   "codemirror_mode": {
    "name": "ipython",
    "version": 3
   },
   "file_extension": ".py",
   "mimetype": "text/x-python",
   "name": "python",
   "nbconvert_exporter": "python",
   "pygments_lexer": "ipython3",
   "version": "3.7.3"
  }
 },
 "nbformat": 4,
 "nbformat_minor": 2
}
